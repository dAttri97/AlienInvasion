{
 "cells": [
  {
   "cell_type": "code",
   "execution_count": 16,
   "metadata": {},
   "outputs": [
    {
     "data": {
      "text/plain": [
       "(6, 0)"
      ]
     },
     "execution_count": 16,
     "metadata": {},
     "output_type": "execute_result"
    }
   ],
   "source": [
    "import pygame\n",
    "import random\n",
    "import math\n",
    "from pygame import mixer\n",
    "pygame.init()"
   ]
  },
  {
   "cell_type": "code",
   "execution_count": 17,
   "metadata": {},
   "outputs": [],
   "source": [
    "background = pygame.image.load('images/background1.jpg')\n",
    "def backGround():\n",
    "    screen.blit(background,(0,0))"
   ]
  },
  {
   "cell_type": "code",
   "execution_count": 18,
   "metadata": {},
   "outputs": [],
   "source": [
    "\n",
    "mixer.music.load('sounds/background.wav')\n",
    "mixer.music.play(-1)\n",
    "bulletSound = mixer.Sound('sounds/laser.wav')\n",
    "explodeSound = mixer.Sound('sounds/explosion.wav')"
   ]
  },
  {
   "cell_type": "code",
   "execution_count": 19,
   "metadata": {},
   "outputs": [],
   "source": [
    "bulletImg = pygame.image.load('images/missile.png')\n",
    "bulletX = 0\n",
    "bulletY = 450\n",
    "bulletChangeX = 0\n",
    "bulletChangeY = 3\n",
    "fire = False\n",
    "def fire_bullet(x,y):\n",
    "    global fire\n",
    "    fire = True\n",
    "    screen.blit(bulletImg,(x+16,y+10))"
   ]
  },
  {
   "cell_type": "code",
   "execution_count": 20,
   "metadata": {},
   "outputs": [],
   "source": [
    "playerImg = pygame.image.load('images/rocket.png')\n",
    "playerX = 370\n",
    "playerY = 480\n",
    "playerChangeX=0\n",
    "playerChangeY=0\n",
    "def playerShip(x,y):\n",
    "    screen.blit(playerImg,(x,y))"
   ]
  },
  {
   "cell_type": "code",
   "execution_count": 21,
   "metadata": {},
   "outputs": [],
   "source": [
    "arr = ['enemy','enemy1','enemy2','enemy3','enemy4']\n",
    "ind = random.randint(0,len(arr)-1)\n",
    "enemyImg = pygame.image.load('images/'+str(arr[ind])+'.png')\n",
    "enemyX = random.randint(0,736)\n",
    "enemyY = random.randint(0,536)\n",
    "enemyChangeX=2.5\n",
    "enemyChangeY=20\n",
    "def enemyShip(x,y):\n",
    "    screen.blit(enemyImg,(enemyX,enemyY))"
   ]
  },
  {
   "cell_type": "code",
   "execution_count": 22,
   "metadata": {},
   "outputs": [],
   "source": [
    "def isCollide(ex,ey,bx,by):\n",
    "    dist = math.sqrt(math.pow(ex-bx,2)+math.pow(ey-by,2))\n",
    "    if dist<=25:\n",
    "        return True\n",
    "    return False"
   ]
  },
  {
   "cell_type": "code",
   "execution_count": 23,
   "metadata": {},
   "outputs": [],
   "source": [
    "score = 0\n",
    "font = pygame.font.Font('freesansbold.ttf',32)\n",
    "def show_score():\n",
    "    score_text = font.render('Score:'+str(score),True,(255,255,255))\n",
    "    screen.blit(score_text,(10,10))"
   ]
  },
  {
   "cell_type": "code",
   "execution_count": 24,
   "metadata": {},
   "outputs": [],
   "source": [
    "\n",
    "# setting the screen size\n",
    "screen = pygame.display.set_mode((800,600))\n",
    "\n",
    "#changing title and icon\n",
    "pygame.display.set_caption('Alien Invasion')\n",
    "icon = pygame.image.load('images/spaceship.png')\n",
    "pygame.display.set_icon(icon)\n",
    "\n",
    "running = True\n",
    "while running:\n",
    "    backGround()\n",
    "    for event in pygame.event.get():\n",
    "        if event.type==pygame.QUIT: \n",
    "            running = False\n",
    "        if event.type == pygame.KEYDOWN:\n",
    "            if event.key == pygame.K_LEFT:\n",
    "                playerChangeX=-3\n",
    "            if event.key == pygame.K_RIGHT:\n",
    "                playerChangeX=3\n",
    "            if event.key == pygame.K_SPACE:\n",
    "                if fire == False:\n",
    "                    bulletSound.play()\n",
    "                    bulletX = playerX\n",
    "                    fire_bullet(bulletX,bulletY)\n",
    "        if event.type == pygame.KEYUP:\n",
    "            playerChangeX=0                        \n",
    "            playerChangeY=0\n",
    "    playerX+=playerChangeX\n",
    "    if playerX<=0:\n",
    "        playerX=0\n",
    "    elif playerX>=736:\n",
    "        playerX=736\n",
    "    enemyX+=enemyChangeX\n",
    "    if enemyX<=0:\n",
    "        enemyChangeX=2.5\n",
    "        enemyY+=enemyChangeY\n",
    "    elif enemyX>=736:\n",
    "        enemyChangeX=-2.5\n",
    "        enemyY+=enemyChangeY\n",
    "    if bulletY<=0:\n",
    "        bulletY = 450\n",
    "        fire = False\n",
    "    if fire == True:\n",
    "        fire_bullet(bulletX,bulletY)\n",
    "        bulletY-=bulletChangeY\n",
    "    if isCollide(enemyX,enemyY,bulletX,bulletY):\n",
    "        explodeSound.play()\n",
    "        score+=10\n",
    "        fire = False\n",
    "        bulletY=450\n",
    "        ind = random.randint(0,len(arr)-1)\n",
    "        enemyImg = pygame.image.load('images/'+str(arr[ind])+'.png')\n",
    "        enemyX = random.randint(0,736)\n",
    "        enemyY = random.randint(0,536)\n",
    "    enemyShip(enemyX,enemyY)\n",
    "    show_score()\n",
    "    playerShip(playerX,playerY)\n",
    "    pygame.display.update()"
   ]
  }
 ],
 "metadata": {
  "kernelspec": {
   "display_name": "Python 2",
   "language": "python",
   "name": "python2"
  },
  "language_info": {
   "codemirror_mode": {
    "name": "ipython",
    "version": 2
   },
   "file_extension": ".py",
   "mimetype": "text/x-python",
   "name": "python",
   "nbconvert_exporter": "python",
   "pygments_lexer": "ipython2",
   "version": "2.7.16"
  }
 },
 "nbformat": 4,
 "nbformat_minor": 2
}
